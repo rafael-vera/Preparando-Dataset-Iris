{
  "nbformat": 4,
  "nbformat_minor": 0,
  "metadata": {
    "colab": {
      "name": "Preparando-Dataset-Breast-Cancer.ipynb",
      "provenance": [],
      "collapsed_sections": [],
      "mount_file_id": "1PCVLMDTxSFAD0FfShi3O8P8ThFkaaNKA",
      "authorship_tag": "ABX9TyOUq1R8/pl2PE6WKmd1qpCc",
      "include_colab_link": true
    },
    "kernelspec": {
      "name": "python3",
      "display_name": "Python 3"
    },
    "language_info": {
      "name": "python"
    }
  },
  "cells": [
    {
      "cell_type": "markdown",
      "metadata": {
        "id": "view-in-github",
        "colab_type": "text"
      },
      "source": [
        "<a href=\"https://colab.research.google.com/github/rafael-vera/Preparando-Datasets/blob/main/Preparando_Dataset_Breast_Cancer.ipynb\" target=\"_parent\"><img src=\"https://colab.research.google.com/assets/colab-badge.svg\" alt=\"Open In Colab\"/></a>"
      ]
    },
    {
      "cell_type": "markdown",
      "metadata": {
        "id": "d5Zxr-24HWqg"
      },
      "source": [
        "# Preparación del Breast Cancer Dataset\n",
        "\n",
        "En este script se muestra la forma de abrir y preprocesar el [Breast Cancer Dataset](https://archive.ics.uci.edu/ml/datasets/Breast+Cancer+Wisconsin+(Diagnostic)), el cual nos muestra datos referentes a caracteristicas de diferentes celulas etiquetadas como \"B\" (para tumores benignos) y \"M\" (para tumores malignos, cancer).\n",
        "\n",
        "En este preprocesamiento se almacena estos datos en archivos *.npy* para su posterior utilización en futuras practicas."
      ]
    },
    {
      "cell_type": "code",
      "metadata": {
        "id": "VoTWWyhe9X2u"
      },
      "source": [
        "# Se importan las librerias a ocupar, en este caso Numpy y matplotlib\n",
        "import numpy as np\n",
        "import matplotlib.pyplot as plt"
      ],
      "execution_count": 1,
      "outputs": []
    },
    {
      "cell_type": "code",
      "metadata": {
        "id": "sIVz-vd9-qmh"
      },
      "source": [
        "PATH = \"drive/MyDrive/Datasets/Breast-Cancer-Dataset/\"\n",
        "with open(PATH + \"wdbc.data\") as f:                    # Se abre el archivo wdbc.data, en mi caso almacenado en Drive.\n",
        "  lines = [ i[:-1] for i in f.readlines() if i != \"\" ] # Se toma solo aquellas lineas que no esten vacias"
      ],
      "execution_count": 2,
      "outputs": []
    },
    {
      "cell_type": "code",
      "metadata": {
        "id": "7zF2EEv1__9Y"
      },
      "source": [
        "n = [\"B\",\"M\"]\n",
        "x = np.array([n.index( i.split(\",\")[1] ) for i in lines], dtype=\"uint8\")  # Se genera una lista donde se asigna 0 = \"B\" y 1 = \"M\" para las etiquetas\n",
        "y = np.array( [ [ float(j) for j in i.split(\",\")[2:] ] for i in lines ] ) # Se genera una lista con las 30 caracteristicas que cuenta cada muestra\n",
        "i = np.argsort( np.random.random( x.shape[0] ) )                          # Se genera una lista de indices aleatorios para desordenar los elementos de las listas X e Y\n",
        "x = x[i]\n",
        "y = y[i]\n",
        "z = (y - y.mean(axis=0)) / y.std(axis=0)                                  # Por ultimo se estandariza los datos en una tercer lista Z"
      ],
      "execution_count": 3,
      "outputs": []
    },
    {
      "cell_type": "markdown",
      "metadata": {
        "id": "86-SIWFyChzw"
      },
      "source": [
        "En el caso de la variable Z se estandariza ya que el dataset cuenta con valores que varian mucho.\n",
        "\n",
        "<div align=\"center\"> <font size=\"5\"> z = $\\frac{y - \\overline{y}}{\\sigma}$ </font> </div>\n",
        "\n",
        "---\n",
        "*Se omite la primer característica ya que esta representa el ID del paciente, el cual no nos será relevante*"
      ]
    },
    {
      "cell_type": "code",
      "metadata": {
        "id": "ZGspc_BjL8uT"
      },
      "source": [
        "np.save(PATH + \"bc_features.npy\", y)          # Se almacena el arreglo de caracteristicas Y\n",
        "np.save(PATH + \"bc_features_standard.npy\", z) # Se almacena el arreeglo estandarizado de caracteristicas Z\n",
        "np.save(PATH + \"bc_labels.npy\", x)            # Se almacena el vector de etiquetas X"
      ],
      "execution_count": 4,
      "outputs": []
    },
    {
      "cell_type": "code",
      "metadata": {
        "colab": {
          "base_uri": "https://localhost:8080/",
          "height": 265
        },
        "id": "0RiSQY8JBwTe",
        "outputId": "ff78c675-17a1-42f7-eff2-1b5b5b91dd3a"
      },
      "source": [
        "# Por ultimo se muestra un Box Plot que nos permita analizar la estructura de los datos estandarizados\n",
        "plt.boxplot(z)\n",
        "plt.show()"
      ],
      "execution_count": 5,
      "outputs": [
        {
          "output_type": "display_data",
          "data": {
            "image/png": "[encoded data removed]",
            "text/plain": [
              "<Figure size 432x288 with 1 Axes>"
            ]
          },
          "metadata": {
            "tags": [],
            "needs_background": "light"
          }
        }
      ]
    }
  ]
}