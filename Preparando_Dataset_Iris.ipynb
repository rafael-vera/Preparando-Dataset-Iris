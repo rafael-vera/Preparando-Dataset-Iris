{
  "nbformat": 4,
  "nbformat_minor": 0,
  "metadata": {
    "colab": {
      "name": "Preparando-Dataset-Iris.ipynb",
      "provenance": [],
      "mount_file_id": "16d7UTcHMdddnLDiTRVfwL6XCdnbjokTY",
      "authorship_tag": "ABX9TyN1cJIjDOprKu7Mqj55RD+j",
      "include_colab_link": true
    },
    "kernelspec": {
      "name": "python3",
      "display_name": "Python 3"
    },
    "language_info": {
      "name": "python"
    }
  },
  "cells": [
    {
      "cell_type": "markdown",
      "metadata": {
        "id": "view-in-github",
        "colab_type": "text"
      },
      "source": [
        "<a href=\"https://colab.research.google.com/github/rafael-vera/Preparando-Dataset-Iris/blob/main/Preparando_Dataset_Iris.ipynb\" target=\"_parent\"><img src=\"https://colab.research.google.com/assets/colab-badge.svg\" alt=\"Open In Colab\"/></a>"
      ]
    },
    {
      "cell_type": "code",
      "metadata": {
        "id": "sjLYV2MOqxH2"
      },
      "source": [
        "import numpy as np\n",
        "import matplotlib.pyplot as plt"
      ],
      "execution_count": 1,
      "outputs": []
    },
    {
      "cell_type": "code",
      "metadata": {
        "id": "LOlYz3x39GuB"
      },
      "source": [
        "path = \"drive/MyDrive/Datasets/iris-dataset/\"\n",
        "with open(path+\"iris.data\") as f:\n",
        "  lines = [ i[:-1] for i in f.readlines() ]"
      ],
      "execution_count": 2,
      "outputs": []
    },
    {
      "cell_type": "code",
      "metadata": {
        "id": "v0qf7r4p92O7"
      },
      "source": [
        "n = [\"Iris-setosa\",\"Iris-versicolor\",\"Iris-virginica\"]\n",
        "x = [n.index(i.split(\",\")[-1]) for i in lines if i != \"\"]\n",
        "x = np.array(x, dtype=\"uint8\")"
      ],
      "execution_count": 3,
      "outputs": []
    },
    {
      "cell_type": "code",
      "metadata": {
        "id": "j-NGUpGPAK10"
      },
      "source": [
        "y = [[float(j) for j in i.split(\",\")[:-1]] for i in lines if i != \"\"]\n",
        "y = np.array(y)"
      ],
      "execution_count": 4,
      "outputs": []
    },
    {
      "cell_type": "code",
      "metadata": {
        "id": "33-rjHlmBWh0"
      },
      "source": [
        "i = np.argsort(np.random.random(x.shape[0]))\n",
        "x = x[i]\n",
        "y = y[i]"
      ],
      "execution_count": 5,
      "outputs": []
    },
    {
      "cell_type": "code",
      "metadata": {
        "colab": {
          "base_uri": "https://localhost:8080/",
          "height": 265
        },
        "id": "Lu0LNNZ9K2Y0",
        "outputId": "a2368422-4656-4e20-a436-f48458f07889"
      },
      "source": [
        "plt.boxplot(y)\n",
        "plt.show()"
      ],
      "execution_count": 6,
      "outputs": [
        {
          "output_type": "display_data",
          "data": {
            "image/png": "[encoded data removed]",
            "text/plain": [
              "<Figure size 432x288 with 1 Axes>"
            ]
          },
          "metadata": {
            "tags": [],
            "needs_background": "light"
          }
        }
      ]
    },
    {
      "cell_type": "code",
      "metadata": {
        "id": "Ls3HYCdyIiop"
      },
      "source": [
        "np.save(path+\"iris_features.npy\", y)\n",
        "np.save(path+\"iris_labels.npy\", x)"
      ],
      "execution_count": 7,
      "outputs": []
    }
  ]
}